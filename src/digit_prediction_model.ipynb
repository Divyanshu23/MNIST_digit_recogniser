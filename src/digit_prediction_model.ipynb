{
 "cells": [
  {
   "cell_type": "markdown",
   "id": "571d4b4d",
   "metadata": {},
   "source": [
    "### <ins>Deep Neural Network for Handwritten Digit Recognition on MNIST Dataset</ins>\n",
    "\n",
    "In the following project, **MNIST Dataset** has been used to classify handwritten digits into their respected values.\n",
    "<img src=\"../images/three_layered_nn.png\" width=\"50%\" height=\"20%\" alt=\"Three Layeerd Neural Network Architecture\"/>\n",
    "\n",
    "<ul>\n",
    "    <li>No of iamges in Training Data = 6000</li>\n",
    "    <li>No of iamges in Testing Data = 10000</li>\n",
    "    <li>Each image is of size 28*28 pixels grayscale</li>\n",
    "</ul>\n",
    "\n",
    "<p> <b><ins>Neural Network Architecture</ins></b> </p>\n",
    "\n",
    "<ul>\n",
    "    <li>Three Layered Architecture</li>\n",
    "    <li>Size of input layer = 28*28=784</li>\n",
    "    <li>Size of hidden layer = 100</li>\n",
    "    <li>Output layer of size 10 = No. of classes (10 digits)</li>\n",
    "</ul>"
   ]
  },
  {
   "cell_type": "code",
   "execution_count": 1,
   "id": "387ed8ca",
   "metadata": {},
   "outputs": [],
   "source": [
    "# Import all the necessary libraries\n",
    "\n",
    "import tensorflow as tf\n",
    "from tensorflow import keras\n",
    "import numpy as np\n",
    "import matplotlib.pyplot as plt\n",
    "%matplotlib inline\n",
    "import seaborn as sn"
   ]
  },
  {
   "cell_type": "markdown",
   "id": "4306f1f4",
   "metadata": {},
   "source": [
    "<p><b><ins>Warning:</ins></b> Executing next cell will downlaod the dataset from the MNIST website (if you don't have it already in ~/.keras/datasets/ directory) which is of 11.5 MB</p>\n",
    "\n",
    "<img src=\"../images/tf_keras_mnist.png\" alt=\"MNIST Database sample image\" width=\"70%\" height=\"50%\"/> "
   ]
  },
  {
   "cell_type": "code",
   "execution_count": 2,
   "id": "b5d9a3fc",
   "metadata": {},
   "outputs": [],
   "source": [
    "# Download the dataset from MNIST website and load in the corrs. variables\n",
    "\n",
    "(x_train, y_train), (x_test, y_test) = keras.datasets.mnist.load_data()"
   ]
  },
  {
   "cell_type": "code",
   "execution_count": 3,
   "id": "bceae53e",
   "metadata": {},
   "outputs": [
    {
     "data": {
      "text/plain": [
       "<matplotlib.image.AxesImage at 0x7fd62c0b7310>"
      ]
     },
     "execution_count": 3,
     "metadata": {},
     "output_type": "execute_result"
    },
    {
     "data": {
      "image/png": "[encoded data removed]",
      "text/plain": [
       "<Figure size 288x288 with 1 Axes>"
      ]
     },
     "metadata": {
      "needs_background": "light"
     },
     "output_type": "display_data"
    },
    {
     "data": {
      "image/png": "[encoded data removed]",
      "text/plain": [
       "<Figure size 288x288 with 1 Axes>"
      ]
     },
     "metadata": {
      "needs_background": "light"
     },
     "output_type": "display_data"
    }
   ],
   "source": [
    "# Visualize first digit of train dataset and first digit of test dataset\n",
    "plt.matshow(x_train[0])\n",
    "plt.matshow(x_test[0])"
   ]
  },
  {
   "cell_type": "code",
   "execution_count": 4,
   "id": "c4b67150",
   "metadata": {},
   "outputs": [],
   "source": [
    "#  Store necessary values\n",
    "\n",
    "n = x_train[0].size                                              # Number of Features\n",
    "m = len(x_train)                                                 # Number of Training Examples\n",
    "\n",
    "#  Flatten the training and test datasets\n",
    "x_train_flatten = x_train.reshape((m, n))\n",
    "x_test_flatten = x_test.reshape((len(x_test),n))\n",
    "\n",
    "# Scale the features\n",
    "x_train_flatten = x_train_flatten/255\n",
    "x_test_flatten = x_test_flatten/255"
   ]
  },
  {
   "cell_type": "markdown",
   "id": "ff6c907d",
   "metadata": {},
   "source": [
    "Two Neural Networks models have been developed to evaluate and compare performance on the dataset.\n",
    "\n",
    "<ul>\n",
    "    <li>Model 1 with two layers (no hidden layer) with <b>sigmoid</b> activation function.</li>\n",
    "    <li>Model 2 with three layers (one hidden laye of size 100) with <b>relu (Rectified Linear Unit)</b> activation function.</li>\n",
    "</ul>\n"
   ]
  },
  {
   "cell_type": "code",
   "execution_count": 5,
   "id": "431367b6",
   "metadata": {},
   "outputs": [],
   "source": [
    "# Define the Model\n",
    "\n",
    "model1 = keras.Sequential([\n",
    "    keras.layers.Dense(10, input_shape=(n,), activation=\"sigmoid\")\n",
    "])\n",
    "\n",
    "model1.compile(\n",
    "    optimizer=\"adam\",\n",
    "    loss=\"sparse_categorical_crossentropy\",\n",
    "    metrics=[\"accuracy\"]\n",
    ")"
   ]
  },
  {
   "cell_type": "code",
   "execution_count": 6,
   "id": "16a859cc",
   "metadata": {},
   "outputs": [
    {
     "name": "stdout",
     "output_type": "stream",
     "text": [
      "Epoch 1/10\n",
      "1875/1875 [==============================] - 6s 3ms/step - loss: 0.7312 - accuracy: 0.8087\n",
      "Epoch 2/10\n",
      "1875/1875 [==============================] - 6s 3ms/step - loss: 0.3129 - accuracy: 0.9119\n",
      "Epoch 3/10\n",
      "1875/1875 [==============================] - 6s 3ms/step - loss: 0.2867 - accuracy: 0.9189\n",
      "Epoch 4/10\n",
      "1875/1875 [==============================] - 6s 3ms/step - loss: 0.2761 - accuracy: 0.9218\n",
      "Epoch 5/10\n",
      "1875/1875 [==============================] - 6s 3ms/step - loss: 0.2646 - accuracy: 0.9258\n",
      "Epoch 6/10\n",
      "1875/1875 [==============================] - 6s 3ms/step - loss: 0.2619 - accuracy: 0.9265\n",
      "Epoch 7/10\n",
      "1875/1875 [==============================] - 6s 3ms/step - loss: 0.2531 - accuracy: 0.9302\n",
      "Epoch 8/10\n",
      "1875/1875 [==============================] - 6s 3ms/step - loss: 0.2531 - accuracy: 0.9310\n",
      "Epoch 9/10\n",
      "1875/1875 [==============================] - 6s 3ms/step - loss: 0.2531 - accuracy: 0.9301\n",
      "Epoch 10/10\n",
      "1875/1875 [==============================] - 6s 3ms/step - loss: 0.2515 - accuracy: 0.9309\n"
     ]
    },
    {
     "data": {
      "text/plain": [
       "<tensorflow.python.keras.callbacks.History at 0x7fd610215610>"
      ]
     },
     "execution_count": 6,
     "metadata": {},
     "output_type": "execute_result"
    }
   ],
   "source": [
    "# Train the model on Training dataset\n",
    "\n",
    "model1.fit(x_train_flatten, y_train, epochs=10)\n",
    "\n",
    "# After training the model, an accuracy of approx. 93% on the training set is achieved"
   ]
  },
  {
   "cell_type": "code",
   "execution_count": 7,
   "id": "601fa678",
   "metadata": {},
   "outputs": [
    {
     "name": "stdout",
     "output_type": "stream",
     "text": [
      "313/313 [==============================] - 1s 2ms/step - loss: 0.2654 - accuracy: 0.9262\n"
     ]
    },
    {
     "data": {
      "text/plain": [
       "[0.26542627811431885, 0.9261999726295471]"
      ]
     },
     "execution_count": 7,
     "metadata": {},
     "output_type": "execute_result"
    }
   ],
   "source": [
    "# Evaluate the performance of the model on test dataset\n",
    "\n",
    "model1.evaluate(x_test_flatten, y_test)\n",
    "\n",
    "# An accuracy of approx. 92% is achieved on the test dataset with cost of 0.2712"
   ]
  },
  {
   "cell_type": "code",
   "execution_count": 8,
   "id": "ae579095",
   "metadata": {},
   "outputs": [],
   "source": [
    "# Make predictions on the test dataset\n",
    "# Store the prediction for each image in y_predictions\n",
    "\n",
    "predictions1 = model1.predict(x_test_flatten)\n",
    "y_predictions1 = predictions1.argmax(axis=1)"
   ]
  },
  {
   "cell_type": "code",
   "execution_count": 9,
   "id": "a9be392e",
   "metadata": {},
   "outputs": [
    {
     "data": {
      "text/plain": [
       "array([7, 2, 1, ..., 4, 5, 6])"
      ]
     },
     "execution_count": 9,
     "metadata": {},
     "output_type": "execute_result"
    }
   ],
   "source": [
    "# See what actual values are predicted by our model\n",
    "y_predictions1"
   ]
  },
  {
   "cell_type": "code",
   "execution_count": 10,
   "id": "6b03caa6",
   "metadata": {},
   "outputs": [
    {
     "data": {
      "text/plain": [
       "<tf.Tensor: shape=(10, 10), dtype=int32, numpy=\n",
       "array([[ 957,    0,    2,    2,    0,    7,    8,    2,    2,    0],\n",
       "       [   0, 1113,    3,    2,    0,    1,    4,    2,   10,    0],\n",
       "       [   5,    9,  932,   15,    7,    3,   14,    8,   36,    3],\n",
       "       [   2,    0,   19,  925,    1,   20,    3,    8,   26,    6],\n",
       "       [   1,    1,    5,    2,  913,    0,   12,    5,   11,   32],\n",
       "       [  10,    3,    3,   38,    7,  768,   16,    7,   33,    7],\n",
       "       [  10,    3,    7,    1,    7,   10,  916,    1,    3,    0],\n",
       "       [   1,    8,   29,    6,    7,    1,    0,  934,    4,   38],\n",
       "       [   5,    9,    7,   19,    8,   18,   12,    7,  879,   10],\n",
       "       [  10,    8,    1,    8,   27,    6,    0,   15,    9,  925]],\n",
       "      dtype=int32)>"
      ]
     },
     "execution_count": 10,
     "metadata": {},
     "output_type": "execute_result"
    }
   ],
   "source": [
    "# Confusion Matrix\n",
    "\n",
    "cm = tf.math.confusion_matrix(labels=y_test, predictions = y_predictions1)\n",
    "cm"
   ]
  },
  {
   "cell_type": "code",
   "execution_count": 21,
   "id": "fddf1e30",
   "metadata": {},
   "outputs": [
    {
     "data": {
      "image/png": "[encoded data removed]",
      "text/plain": [
       "<Figure size 720x504 with 2 Axes>"
      ]
     },
     "metadata": {
      "needs_background": "light"
     },
     "output_type": "display_data"
    }
   ],
   "source": [
    "# Visualize Confusion Matrix using seaborn library\n",
    "\n",
    "plt.figure(figsize=(10,7))\n",
    "sn.heatmap(cm, annot=True, fmt=\"d\")\n",
    "plt.xlabel(\"Model Predictions\")\n",
    "plt.ylabel(\"True Values\")"
   ]
  },
  {
   "cell_type": "markdown",
   "id": "cc3089b8",
   "metadata": {},
   "source": [
    "<p>Define another model with three layers and relu activation function</p>\n",
    "\n",
    "<p>As will be seen, accuracy of the model will be imporved</p>"
   ]
  },
  {
   "cell_type": "code",
   "execution_count": 12,
   "id": "4e6b2a97",
   "metadata": {},
   "outputs": [],
   "source": [
    "# Define the Model\n",
    "\n",
    "model2 = keras.Sequential([\n",
    "    keras.layers.Dense(100, input_shape=(n,), activation=\"relu\"),\n",
    "    keras.layers.Dense(10, activation=\"sigmoid\")\n",
    "])\n",
    "\n",
    "model2.compile(\n",
    "    optimizer=\"adam\",\n",
    "    loss=\"sparse_categorical_crossentropy\",\n",
    "    metrics=[\"accuracy\"]\n",
    ")"
   ]
  },
  {
   "cell_type": "code",
   "execution_count": 13,
   "id": "c3e2a2ec",
   "metadata": {},
   "outputs": [
    {
     "name": "stdout",
     "output_type": "stream",
     "text": [
      "Epoch 1/10\n",
      "1875/1875 [==============================] - 6s 3ms/step - loss: 0.4513 - accuracy: 0.8723\n",
      "Epoch 2/10\n",
      "1875/1875 [==============================] - 6s 3ms/step - loss: 0.1344 - accuracy: 0.9609\n",
      "Epoch 3/10\n",
      "1875/1875 [==============================] - 6s 3ms/step - loss: 0.0901 - accuracy: 0.9725\n",
      "Epoch 4/10\n",
      "1875/1875 [==============================] - 6s 3ms/step - loss: 0.0673 - accuracy: 0.9804\n",
      "Epoch 5/10\n",
      "1875/1875 [==============================] - 6s 3ms/step - loss: 0.0521 - accuracy: 0.9846\n",
      "Epoch 6/10\n",
      "1875/1875 [==============================] - 6s 3ms/step - loss: 0.0407 - accuracy: 0.9875\n",
      "Epoch 7/10\n",
      "1875/1875 [==============================] - 6s 3ms/step - loss: 0.0324 - accuracy: 0.9903\n",
      "Epoch 8/10\n",
      "1875/1875 [==============================] - 6s 3ms/step - loss: 0.0265 - accuracy: 0.9918\n",
      "Epoch 9/10\n",
      "1875/1875 [==============================] - 6s 3ms/step - loss: 0.0216 - accuracy: 0.9937\n",
      "Epoch 10/10\n",
      "1875/1875 [==============================] - 6s 3ms/step - loss: 0.0183 - accuracy: 0.9943\n"
     ]
    },
    {
     "data": {
      "text/plain": [
       "<tensorflow.python.keras.callbacks.History at 0x7fd6002e7bb0>"
      ]
     },
     "execution_count": 13,
     "metadata": {},
     "output_type": "execute_result"
    }
   ],
   "source": [
    "# Train the model on Training dataset\n",
    "\n",
    "model2.fit(x_train_flatten, y_train, epochs=10)\n",
    "\n",
    "# After training the model, an accuracy of approx. 99% (almost perfect) on the training set is achieved"
   ]
  },
  {
   "cell_type": "code",
   "execution_count": 14,
   "id": "186d4083",
   "metadata": {},
   "outputs": [
    {
     "name": "stdout",
     "output_type": "stream",
     "text": [
      "313/313 [==============================] - 1s 2ms/step - loss: 0.0918 - accuracy: 0.9763\n"
     ]
    },
    {
     "data": {
      "text/plain": [
       "[0.09183111041784286, 0.9763000011444092]"
      ]
     },
     "execution_count": 14,
     "metadata": {},
     "output_type": "execute_result"
    }
   ],
   "source": [
    "# Evaluate the performance of the model on test dataset\n",
    "\n",
    "model2.evaluate(x_test_flatten, y_test)\n",
    "\n",
    "# An accuracy of approx. 97% is achieved on the test dataset with cost of 0.092"
   ]
  },
  {
   "cell_type": "code",
   "execution_count": 15,
   "id": "ec7d8288",
   "metadata": {},
   "outputs": [],
   "source": [
    "# Make predictions on the test dataset\n",
    "# Store the prediction for each image in y_predictions\n",
    "\n",
    "predictions2 = model2.predict(x_test_flatten)\n",
    "y_predictions2 = predictions2.argmax(axis=1)"
   ]
  },
  {
   "cell_type": "code",
   "execution_count": 16,
   "id": "1fdf3f6b",
   "metadata": {},
   "outputs": [
    {
     "data": {
      "text/plain": [
       "<tf.Tensor: shape=(10, 10), dtype=int32, numpy=\n",
       "array([[ 972,    0,    1,    0,    0,    1,    3,    1,    2,    0],\n",
       "       [   0, 1125,    5,    0,    0,    0,    2,    0,    3,    0],\n",
       "       [   3,    1, 1010,    4,    1,    0,    1,    5,    6,    1],\n",
       "       [   0,    0,    2,  993,    0,    1,    1,    5,    3,    5],\n",
       "       [   1,    2,    3,    2,  948,    2,    4,    1,    2,   17],\n",
       "       [   1,    1,    0,   19,    1,  856,    2,    1,    7,    4],\n",
       "       [   3,    4,    4,    1,    5,    4,  935,    0,    2,    0],\n",
       "       [   0,    8,   10,    5,    0,    0,    0,  994,    2,    9],\n",
       "       [   3,    2,    6,    9,    3,    4,    3,    2,  939,    3],\n",
       "       [   0,    3,    0,    3,    5,    0,    1,    3,    3,  991]],\n",
       "      dtype=int32)>"
      ]
     },
     "execution_count": 16,
     "metadata": {},
     "output_type": "execute_result"
    }
   ],
   "source": [
    "# Confusion Matrix\n",
    "\n",
    "cm2 = tf.math.confusion_matrix(labels=y_test, predictions = y_predictions2)\n",
    "cm2"
   ]
  },
  {
   "cell_type": "code",
   "execution_count": 20,
   "id": "bd937018",
   "metadata": {},
   "outputs": [
    {
     "data": {
      "text/plain": [
       "Text(69.0, 0.5, 'True Values')"
      ]
     },
     "execution_count": 20,
     "metadata": {},
     "output_type": "execute_result"
    },
    {
     "data": {
      "image/png": "[encoded data removed]",
      "text/plain": [
       "<Figure size 720x504 with 2 Axes>"
      ]
     },
     "metadata": {
      "needs_background": "light"
     },
     "output_type": "display_data"
    }
   ],
   "source": [
    "# Visualize Confusion Matrix using seaborn library\n",
    "\n",
    "plt.figure(figsize=(10,7))\n",
    "sn_plot = sn.heatmap(cm2, annot=True, fmt=\"d\")\n",
    "plt.xlabel(\"Model Predictions\")\n",
    "plt.ylabel(\"True Values\")"
   ]
  },
  {
   "cell_type": "code",
   "execution_count": null,
   "id": "49966740",
   "metadata": {},
   "outputs": [],
   "source": []
  }
 ],
 "metadata": {
  "kernelspec": {
   "display_name": "Python 3",
   "language": "python",
   "name": "python3"
  },
  "language_info": {
   "codemirror_mode": {
    "name": "ipython",
    "version": 3
   },
   "file_extension": ".py",
   "mimetype": "text/x-python",
   "name": "python",
   "nbconvert_exporter": "python",
   "pygments_lexer": "ipython3",
   "version": "3.6.9"
  }
 },
 "nbformat": 4,
 "nbformat_minor": 5
}
